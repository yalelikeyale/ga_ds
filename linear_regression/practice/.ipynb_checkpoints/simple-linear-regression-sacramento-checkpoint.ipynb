{
 "cells": [
  {
   "cell_type": "markdown",
   "metadata": {},
   "source": [
    "<img src=\"http://imgur.com/1ZcRyrc.png\" style=\"float: left; margin: 20px; height: 55px\">\n",
    "\n",
    "# Simple Linear Regression with Sacramento Real Estate Data\n",
    "\n",
    "_Authors: Matt Brems, Sam Stack_\n",
    "\n",
    "---\n",
    "\n",
    "In this lab you will hone your EDA skills and practice constructing simple linear regressions using a dataset on Sacramento real estate sales.  The dataset contains information on qualities of the property, location of the property, and time of sale."
   ]
  },
  {
   "cell_type": "markdown",
   "metadata": {},
   "source": [
    "### 1. Read in the Sacramento housing data set."
   ]
  },
  {
   "cell_type": "code",
   "execution_count": 1,
   "metadata": {},
   "outputs": [],
   "source": [
    "import pandas as pd\n",
    "import seaborn as sns\n",
    "import matplotlib.pyplot as plt\n",
    "import numpy as np\n",
    "import scipy.stats\n",
    "from sklearn.linear_model import LinearRegression\n",
    "from sklearn.linear_model import RidgeCV, Ridge, Lasso\n",
    "from sklearn import metrics\n",
    "from sklearn.preprocessing import StandardScaler\n",
    "from sklearn.model_selection import train_test_split\n",
    "from sklearn.model_selection import KFold, cross_val_score\n",
    "\n",
    "from IPython.display import display\n",
    "% matplotlib inline"
   ]
  },
  {
   "cell_type": "markdown",
   "metadata": {},
   "source": [
    "### 2. Conduct exploratory data analysis on this data set. \n",
    "\n",
    "**Report any notable findings here and any steps you take to clean/process data.**\n",
    "\n",
    "> **Note:** These EDA checks should be done on every data set we give you. If you find yourself checking for, say, missing/corrupted data over and over, it might be to your long-term benefit to have a function that you can re-use every time you're given some new data."
   ]
  },
  {
   "cell_type": "code",
   "execution_count": 2,
   "metadata": {},
   "outputs": [],
   "source": [
    "sac_csv = '../data/sacramento_real_estate_transactions.csv'\n",
    "df = pd.read_csv(sac_csv)"
   ]
  },
  {
   "cell_type": "code",
   "execution_count": 3,
   "metadata": {},
   "outputs": [
    {
     "name": "stderr",
     "output_type": "stream",
     "text": [
      "/anaconda2/envs/py36/lib/python3.6/site-packages/dateutil/parser/_parser.py:1204: UnknownTimezoneWarning: tzname EDT identified but not understood.  Pass `tzinfos` argument in order to correctly return a timezone-aware datetime.  In a future version, this will raise an exception.\n",
      "  category=UnknownTimezoneWarning)\n"
     ]
    }
   ],
   "source": [
    "df['sale_date'] = pd.to_datetime(df['sale_date'])\n",
    "df.price = df.price.astype(float)\n",
    "df = df[df['type']!='Unkown']\n",
    "df = df[df['sq__ft']>0]\n",
    "df = df[df['price']>30000]\n",
    "df = pd.get_dummies(df, columns=['city','type'], drop_first=True)"
   ]
  },
  {
   "cell_type": "code",
   "execution_count": 4,
   "metadata": {},
   "outputs": [
    {
     "data": {
      "text/html": [
       "<div>\n",
       "<style scoped>\n",
       "    .dataframe tbody tr th:only-of-type {\n",
       "        vertical-align: middle;\n",
       "    }\n",
       "\n",
       "    .dataframe tbody tr th {\n",
       "        vertical-align: top;\n",
       "    }\n",
       "\n",
       "    .dataframe thead th {\n",
       "        text-align: right;\n",
       "    }\n",
       "</style>\n",
       "<table border=\"1\" class=\"dataframe\">\n",
       "  <thead>\n",
       "    <tr style=\"text-align: right;\">\n",
       "      <th></th>\n",
       "      <th>street</th>\n",
       "      <th>zip</th>\n",
       "      <th>state</th>\n",
       "      <th>beds</th>\n",
       "      <th>baths</th>\n",
       "      <th>sq__ft</th>\n",
       "      <th>sale_date</th>\n",
       "      <th>price</th>\n",
       "      <th>latitude</th>\n",
       "      <th>longitude</th>\n",
       "      <th>...</th>\n",
       "      <th>city_RANCHO MURIETA</th>\n",
       "      <th>city_RIO LINDA</th>\n",
       "      <th>city_ROCKLIN</th>\n",
       "      <th>city_ROSEVILLE</th>\n",
       "      <th>city_SACRAMENTO</th>\n",
       "      <th>city_WALNUT GROVE</th>\n",
       "      <th>city_WEST SACRAMENTO</th>\n",
       "      <th>city_WILTON</th>\n",
       "      <th>type_Multi-Family</th>\n",
       "      <th>type_Residential</th>\n",
       "    </tr>\n",
       "  </thead>\n",
       "  <tbody>\n",
       "    <tr>\n",
       "      <th>0</th>\n",
       "      <td>3526 HIGH ST</td>\n",
       "      <td>95838</td>\n",
       "      <td>CA</td>\n",
       "      <td>2</td>\n",
       "      <td>1</td>\n",
       "      <td>836</td>\n",
       "      <td>2008-05-21</td>\n",
       "      <td>59222.0</td>\n",
       "      <td>38.631913</td>\n",
       "      <td>-121.434879</td>\n",
       "      <td>...</td>\n",
       "      <td>0</td>\n",
       "      <td>0</td>\n",
       "      <td>0</td>\n",
       "      <td>0</td>\n",
       "      <td>1</td>\n",
       "      <td>0</td>\n",
       "      <td>0</td>\n",
       "      <td>0</td>\n",
       "      <td>0</td>\n",
       "      <td>1</td>\n",
       "    </tr>\n",
       "    <tr>\n",
       "      <th>1</th>\n",
       "      <td>51 OMAHA CT</td>\n",
       "      <td>95823</td>\n",
       "      <td>CA</td>\n",
       "      <td>3</td>\n",
       "      <td>1</td>\n",
       "      <td>1167</td>\n",
       "      <td>2008-05-21</td>\n",
       "      <td>68212.0</td>\n",
       "      <td>38.478902</td>\n",
       "      <td>-121.431028</td>\n",
       "      <td>...</td>\n",
       "      <td>0</td>\n",
       "      <td>0</td>\n",
       "      <td>0</td>\n",
       "      <td>0</td>\n",
       "      <td>1</td>\n",
       "      <td>0</td>\n",
       "      <td>0</td>\n",
       "      <td>0</td>\n",
       "      <td>0</td>\n",
       "      <td>1</td>\n",
       "    </tr>\n",
       "    <tr>\n",
       "      <th>2</th>\n",
       "      <td>2796 BRANCH ST</td>\n",
       "      <td>95815</td>\n",
       "      <td>CA</td>\n",
       "      <td>2</td>\n",
       "      <td>1</td>\n",
       "      <td>796</td>\n",
       "      <td>2008-05-21</td>\n",
       "      <td>68880.0</td>\n",
       "      <td>38.618305</td>\n",
       "      <td>-121.443839</td>\n",
       "      <td>...</td>\n",
       "      <td>0</td>\n",
       "      <td>0</td>\n",
       "      <td>0</td>\n",
       "      <td>0</td>\n",
       "      <td>1</td>\n",
       "      <td>0</td>\n",
       "      <td>0</td>\n",
       "      <td>0</td>\n",
       "      <td>0</td>\n",
       "      <td>1</td>\n",
       "    </tr>\n",
       "    <tr>\n",
       "      <th>3</th>\n",
       "      <td>2805 JANETTE WAY</td>\n",
       "      <td>95815</td>\n",
       "      <td>CA</td>\n",
       "      <td>2</td>\n",
       "      <td>1</td>\n",
       "      <td>852</td>\n",
       "      <td>2008-05-21</td>\n",
       "      <td>69307.0</td>\n",
       "      <td>38.616835</td>\n",
       "      <td>-121.439146</td>\n",
       "      <td>...</td>\n",
       "      <td>0</td>\n",
       "      <td>0</td>\n",
       "      <td>0</td>\n",
       "      <td>0</td>\n",
       "      <td>1</td>\n",
       "      <td>0</td>\n",
       "      <td>0</td>\n",
       "      <td>0</td>\n",
       "      <td>0</td>\n",
       "      <td>1</td>\n",
       "    </tr>\n",
       "    <tr>\n",
       "      <th>4</th>\n",
       "      <td>6001 MCMAHON DR</td>\n",
       "      <td>95824</td>\n",
       "      <td>CA</td>\n",
       "      <td>2</td>\n",
       "      <td>1</td>\n",
       "      <td>797</td>\n",
       "      <td>2008-05-21</td>\n",
       "      <td>81900.0</td>\n",
       "      <td>38.519470</td>\n",
       "      <td>-121.435768</td>\n",
       "      <td>...</td>\n",
       "      <td>0</td>\n",
       "      <td>0</td>\n",
       "      <td>0</td>\n",
       "      <td>0</td>\n",
       "      <td>1</td>\n",
       "      <td>0</td>\n",
       "      <td>0</td>\n",
       "      <td>0</td>\n",
       "      <td>0</td>\n",
       "      <td>1</td>\n",
       "    </tr>\n",
       "  </tbody>\n",
       "</table>\n",
       "<p>5 rows × 46 columns</p>\n",
       "</div>"
      ],
      "text/plain": [
       "             street    zip state  beds  baths  sq__ft  sale_date    price  \\\n",
       "0      3526 HIGH ST  95838    CA     2      1     836 2008-05-21  59222.0   \n",
       "1       51 OMAHA CT  95823    CA     3      1    1167 2008-05-21  68212.0   \n",
       "2    2796 BRANCH ST  95815    CA     2      1     796 2008-05-21  68880.0   \n",
       "3  2805 JANETTE WAY  95815    CA     2      1     852 2008-05-21  69307.0   \n",
       "4   6001 MCMAHON DR  95824    CA     2      1     797 2008-05-21  81900.0   \n",
       "\n",
       "    latitude   longitude        ...         city_RANCHO MURIETA  \\\n",
       "0  38.631913 -121.434879        ...                           0   \n",
       "1  38.478902 -121.431028        ...                           0   \n",
       "2  38.618305 -121.443839        ...                           0   \n",
       "3  38.616835 -121.439146        ...                           0   \n",
       "4  38.519470 -121.435768        ...                           0   \n",
       "\n",
       "   city_RIO LINDA  city_ROCKLIN  city_ROSEVILLE  city_SACRAMENTO  \\\n",
       "0               0             0               0                1   \n",
       "1               0             0               0                1   \n",
       "2               0             0               0                1   \n",
       "3               0             0               0                1   \n",
       "4               0             0               0                1   \n",
       "\n",
       "   city_WALNUT GROVE  city_WEST SACRAMENTO  city_WILTON  type_Multi-Family  \\\n",
       "0                  0                     0            0                  0   \n",
       "1                  0                     0            0                  0   \n",
       "2                  0                     0            0                  0   \n",
       "3                  0                     0            0                  0   \n",
       "4                  0                     0            0                  0   \n",
       "\n",
       "   type_Residential  \n",
       "0                 1  \n",
       "1                 1  \n",
       "2                 1  \n",
       "3                 1  \n",
       "4                 1  \n",
       "\n",
       "[5 rows x 46 columns]"
      ]
     },
     "execution_count": 4,
     "metadata": {},
     "output_type": "execute_result"
    }
   ],
   "source": [
    "df.head()"
   ]
  },
  {
   "cell_type": "markdown",
   "metadata": {},
   "source": [
    "### 3. Our goal will be to predict price. List variables that you think qualify as predictors of price in a SLR model. \n",
    "\n",
    "**For each of these variables you believe to be valid potential predictors in an SLR model, generate a plot showing the relationship between the independent variable and dependent variable.**"
   ]
  },
  {
   "cell_type": "code",
   "execution_count": 5,
   "metadata": {},
   "outputs": [],
   "source": [
    "#correlation heatmap of dataset\n",
    "def correlation_heatmap(df):\n",
    "    _ , ax = plt.subplots(figsize =(14, 12))\n",
    "    colormap = sns.diverging_palette(220, 10, as_cmap = True)\n",
    "    \n",
    "    _ = sns.heatmap(\n",
    "        df.corr(), \n",
    "        cmap = colormap,\n",
    "        square=True, \n",
    "        cbar_kws={'shrink':.9 }, \n",
    "        ax=ax,\n",
    "        annot=True, \n",
    "        linewidths=0.1,vmax=1.0, linecolor='white',\n",
    "        annot_kws={'fontsize':12 }\n",
    "    )\n",
    "    \n",
    "    plt.title('Pearson Correlation of Features', y=1.05, size=15)"
   ]
  },
  {
   "cell_type": "code",
   "execution_count": 6,
   "metadata": {},
   "outputs": [
    {
     "data": {
      "image/png": "[encoded data removed]",
      "text/plain": [
       "<Figure size 1008x864 with 2 Axes>"
      ]
     },
     "metadata": {
      "needs_background": "light"
     },
     "output_type": "display_data"
    }
   ],
   "source": [
    "correlation_heatmap(df[['beds','baths','sq__ft','price']])"
   ]
  },
  {
   "cell_type": "code",
   "execution_count": 7,
   "metadata": {},
   "outputs": [
    {
     "name": "stderr",
     "output_type": "stream",
     "text": [
      "/anaconda2/envs/py36/lib/python3.6/site-packages/scipy/stats/stats.py:1713: FutureWarning: Using a non-tuple sequence for multidimensional indexing is deprecated; use `arr[tuple(seq)]` instead of `arr[seq]`. In the future this will be interpreted as an array index, `arr[np.array(seq)]`, which will result either in an error or a different result.\n",
      "  return np.add.reduce(sorted[indexer] * weights, axis=axis) / sumval\n"
     ]
    },
    {
     "data": {
      "image/png": "[encoded data removed]",
      "text/plain": [
       "<Figure size 540x360 with 1 Axes>"
      ]
     },
     "metadata": {
      "needs_background": "light"
     },
     "output_type": "display_data"
    }
   ],
   "source": [
    "sns.lmplot(x='sq__ft', y='price', data=df, aspect=1.5, scatter_kws={'alpha':0.2});"
   ]
  },
  {
   "cell_type": "code",
   "execution_count": 8,
   "metadata": {},
   "outputs": [],
   "source": [
    "feature_sets = {\n",
    "    'sqft':['sq__ft'], \n",
    "    'sqft_city':['sq__ft','city_AUBURN', 'city_CAMERON PARK',\n",
    "       'city_CARMICHAEL', 'city_CITRUS HEIGHTS', 'city_COOL',\n",
    "       'city_DIAMOND SPRINGS', 'city_EL DORADO', 'city_EL DORADO HILLS',\n",
    "       'city_ELK GROVE', 'city_ELVERTA', 'city_FAIR OAKS', 'city_FOLSOM',\n",
    "       'city_GALT', 'city_GOLD RIVER', 'city_GRANITE BAY', 'city_GREENWOOD',\n",
    "       'city_LINCOLN', 'city_LOOMIS', 'city_MATHER', 'city_MEADOW VISTA',\n",
    "       'city_NORTH HIGHLANDS', 'city_ORANGEVALE', 'city_PENRYN',\n",
    "       'city_PLACERVILLE', 'city_POLLOCK PINES', 'city_RANCHO CORDOVA',\n",
    "       'city_RANCHO MURIETA', 'city_RIO LINDA', 'city_ROCKLIN',\n",
    "       'city_ROSEVILLE', 'city_SACRAMENTO', 'city_WALNUT GROVE',\n",
    "       'city_WEST SACRAMENTO', 'city_WILTON', 'type_Multi-Family',\n",
    "       'type_Residential'],\n",
    "    'sqft_beds_baths_city':['sq__ft','beds','baths','city_AUBURN', 'city_CAMERON PARK',\n",
    "       'city_CARMICHAEL', 'city_CITRUS HEIGHTS', 'city_COOL',\n",
    "       'city_DIAMOND SPRINGS', 'city_EL DORADO', 'city_EL DORADO HILLS',\n",
    "       'city_ELK GROVE', 'city_ELVERTA', 'city_FAIR OAKS', 'city_FOLSOM',\n",
    "       'city_GALT', 'city_GOLD RIVER', 'city_GRANITE BAY', 'city_GREENWOOD',\n",
    "       'city_LINCOLN', 'city_LOOMIS', 'city_MATHER', 'city_MEADOW VISTA',\n",
    "       'city_NORTH HIGHLANDS', 'city_ORANGEVALE', 'city_PENRYN',\n",
    "       'city_PLACERVILLE', 'city_POLLOCK PINES', 'city_RANCHO CORDOVA',\n",
    "       'city_RANCHO MURIETA', 'city_RIO LINDA', 'city_ROCKLIN',\n",
    "       'city_ROSEVILLE', 'city_SACRAMENTO', 'city_WALNUT GROVE',\n",
    "       'city_WEST SACRAMENTO', 'city_WILTON', 'type_Multi-Family',\n",
    "       'type_Residential'],\n",
    "    'sqft_baths_city':['sq__ft','baths','city_AUBURN', 'city_CAMERON PARK',\n",
    "       'city_CARMICHAEL', 'city_CITRUS HEIGHTS', 'city_COOL',\n",
    "       'city_DIAMOND SPRINGS', 'city_EL DORADO', 'city_EL DORADO HILLS',\n",
    "       'city_ELK GROVE', 'city_ELVERTA', 'city_FAIR OAKS', 'city_FOLSOM',\n",
    "       'city_GALT', 'city_GOLD RIVER', 'city_GRANITE BAY', 'city_GREENWOOD',\n",
    "       'city_LINCOLN', 'city_LOOMIS', 'city_MATHER', 'city_MEADOW VISTA',\n",
    "       'city_NORTH HIGHLANDS', 'city_ORANGEVALE', 'city_PENRYN',\n",
    "       'city_PLACERVILLE', 'city_POLLOCK PINES', 'city_RANCHO CORDOVA',\n",
    "       'city_RANCHO MURIETA', 'city_RIO LINDA', 'city_ROCKLIN',\n",
    "       'city_ROSEVILLE', 'city_SACRAMENTO', 'city_WALNUT GROVE',\n",
    "       'city_WEST SACRAMENTO', 'city_WILTON', 'type_Multi-Family',\n",
    "       'type_Residential'],\n",
    "    'sqft_beds_city':['sq__ft','beds','city_AUBURN', 'city_CAMERON PARK',\n",
    "       'city_CARMICHAEL', 'city_CITRUS HEIGHTS', 'city_COOL',\n",
    "       'city_DIAMOND SPRINGS', 'city_EL DORADO', 'city_EL DORADO HILLS',\n",
    "       'city_ELK GROVE', 'city_ELVERTA', 'city_FAIR OAKS', 'city_FOLSOM',\n",
    "       'city_GALT', 'city_GOLD RIVER', 'city_GRANITE BAY', 'city_GREENWOOD',\n",
    "       'city_LINCOLN', 'city_LOOMIS', 'city_MATHER', 'city_MEADOW VISTA',\n",
    "       'city_NORTH HIGHLANDS', 'city_ORANGEVALE', 'city_PENRYN',\n",
    "       'city_PLACERVILLE', 'city_POLLOCK PINES', 'city_RANCHO CORDOVA',\n",
    "       'city_RANCHO MURIETA', 'city_RIO LINDA', 'city_ROCKLIN',\n",
    "       'city_ROSEVILLE', 'city_SACRAMENTO', 'city_WALNUT GROVE',\n",
    "       'city_WEST SACRAMENTO', 'city_WILTON', 'type_Multi-Family',\n",
    "       'type_Residential']}"
   ]
  },
  {
   "cell_type": "code",
   "execution_count": 9,
   "metadata": {},
   "outputs": [],
   "source": [
    "# Define a function that accepts a list of features and returns testing RMSE.\n",
    "def train_test_osl(df, feature_cols):\n",
    "    X = df[feature_cols]\n",
    "    y = df.price\n",
    "    if len(feature_cols)==1:\n",
    "        X = np.array(X).reshape(-1,1)\n",
    "    X_train, X_test, y_train, y_test = train_test_split(\n",
    "        X, y, random_state=123)\n",
    "    \n",
    "    linreg = LinearRegression()\n",
    "    linreg.fit(X_train, y_train)\n",
    "    display(list(zip(feature_cols,linreg.coef_)))\n",
    "    \n",
    "    y_pred = linreg.predict(X_test)\n",
    "    return np.sqrt(metrics.mean_squared_error(y_test, y_pred))"
   ]
  },
  {
   "cell_type": "code",
   "execution_count": 10,
   "metadata": {},
   "outputs": [],
   "source": [
    "# Define a function that accepts a list of features and returns testing RMSE.\n",
    "def train_test_ridge(df, feature_cols):\n",
    "    X = df[feature_cols]\n",
    "    y = df.price\n",
    "    if len(feature_cols)==1:\n",
    "        X = np.array(X).reshape(-1,1)\n",
    "    scaler = StandardScaler()\n",
    "    X_std = scaler.fit_transform(X)\n",
    "    X_train, X_test, y_train, y_test = train_test_split(\n",
    "        X_std, y, random_state=123)\n",
    "    \n",
    "    regr_cv = RidgeCV(alphas=[0.1, 0.5, 1.0, 2.5, 10.0])\n",
    "    model_cv = regr_cv.fit(X_train, y_train)\n",
    "    \n",
    "    alpha = model_cv.alpha_\n",
    "    ridgereg = Ridge(alpha=alpha, normalize=True)\n",
    "    # Fit the model.\n",
    "    ridgereg.fit(X_train, y_train)\n",
    "    display(list(zip(feature_cols, ridgereg.coef_)))\n",
    "    y_pred = ridgereg.predict(X_test)\n",
    "    return np.sqrt(metrics.mean_squared_error(y_test, y_pred))"
   ]
  },
  {
   "cell_type": "code",
   "execution_count": 11,
   "metadata": {},
   "outputs": [],
   "source": [
    "# Define a function that accepts a list of features and returns testing RMSE.\n",
    "def train_test_lasso(df, feature_cols):\n",
    "    X = df[feature_cols]\n",
    "    y = df.price\n",
    "    if len(feature_cols)==1:\n",
    "        X = np.array(X).reshape(-1,1)\n",
    "    scaler = StandardScaler()\n",
    "    X_std = scaler.fit_transform(X)\n",
    "    X_train, X_test, y_train, y_test = train_test_split(\n",
    "        X_std, y, random_state=123)\n",
    "    \n",
    "    # Create lasso regression with alpha value\n",
    "    regr = Lasso(alpha=1.1)\n",
    "\n",
    "    # Fit the linear regression\n",
    "    model = regr.fit(X_train, y_train)\n",
    "    display(list(zip(feature_cols, model.coef_)))\n",
    "    y_pred = model.predict(X_test)\n",
    "    return np.sqrt(metrics.mean_squared_error(y_test, y_pred))"
   ]
  },
  {
   "cell_type": "code",
   "execution_count": 12,
   "metadata": {},
   "outputs": [],
   "source": [
    "# Define a function that accepts a list of features and returns testing RMSE.\n",
    "def cross_val_lasso(df, feature_cols):\n",
    "    X = df[feature_cols]\n",
    "    y = df.price\n",
    "    if len(feature_cols)==1:\n",
    "        X = np.array(X).reshape(-1,1)\n",
    "    scaler = StandardScaler()\n",
    "    X_std = scaler.fit_transform(X)\n",
    "    regr = Lasso(alpha=1.1)\n",
    "    scores = cross_val_score(regr, X, y, scoring='neg_mean_squared_error', cv=10)\n",
    "    return scores"
   ]
  },
  {
   "cell_type": "code",
   "execution_count": 13,
   "metadata": {},
   "outputs": [
    {
     "data": {
      "text/plain": [
       "[('sq__ft', 135.6146043260082)]"
      ]
     },
     "metadata": {},
     "output_type": "display_data"
    },
    {
     "name": "stdout",
     "output_type": "stream",
     "text": [
      "sqft 83397.6017240082\n"
     ]
    },
    {
     "data": {
      "text/plain": [
       "[('sq__ft', 119.56262328454466),\n",
       " ('city_AUBURN', 154739.14139600916),\n",
       " ('city_CAMERON PARK', 2.9729562811553478e-08),\n",
       " ('city_CARMICHAEL', 78897.23866706046),\n",
       " ('city_CITRUS HEIGHTS', 15464.42270480271),\n",
       " ('city_COOL', 104117.83196164873),\n",
       " ('city_DIAMOND SPRINGS', 38922.16381729479),\n",
       " ('city_EL DORADO', 66063.15987220076),\n",
       " ('city_EL DORADO HILLS', 37932.816181212984),\n",
       " ('city_ELK GROVE', 11783.004466455914),\n",
       " ('city_ELVERTA', -41398.21060733669),\n",
       " ('city_FAIR OAKS', 94613.35916030107),\n",
       " ('city_FOLSOM', 122964.86512492083),\n",
       " ('city_GALT', 19829.477980839103),\n",
       " ('city_GOLD RIVER', 95087.09707575585),\n",
       " ('city_GRANITE BAY', 303896.48184407246),\n",
       " ('city_GREENWOOD', 33045.348219381725),\n",
       " ('city_LINCOLN', 49164.3864472964),\n",
       " ('city_LOOMIS', 368846.14211922727),\n",
       " ('city_MATHER', -34123.996447357014),\n",
       " ('city_MEADOW VISTA', 62932.42417320502),\n",
       " ('city_NORTH HIGHLANDS', -25929.73249399201),\n",
       " ('city_ORANGEVALE', 57344.48475772095),\n",
       " ('city_PENRYN', 327185.9113515727),\n",
       " ('city_PLACERVILLE', 240804.58097361718),\n",
       " ('city_POLLOCK PINES', 59844.07703203335),\n",
       " ('city_RANCHO CORDOVA', 9042.775762850084),\n",
       " ('city_RANCHO MURIETA', 21806.521295124126),\n",
       " ('city_RIO LINDA', 5025.576478788866),\n",
       " ('city_ROCKLIN', 102150.21386293114),\n",
       " ('city_ROSEVILLE', 63489.75047527986),\n",
       " ('city_SACRAMENTO', 1148.2673092253929),\n",
       " ('city_WALNUT GROVE', 2.255546860396862e-10),\n",
       " ('city_WEST SACRAMENTO', 0.0),\n",
       " ('city_WILTON', 190571.15701431717),\n",
       " ('type_Multi-Family', -49964.59585063514),\n",
       " ('type_Residential', 25515.98624655787)]"
      ]
     },
     "metadata": {},
     "output_type": "display_data"
    },
    {
     "name": "stdout",
     "output_type": "stream",
     "text": [
      "sqft_city 78070.99756943817\n"
     ]
    },
    {
     "data": {
      "text/plain": [
       "[('sq__ft', 130.6617852601983),\n",
       " ('beds', -18782.091080038455),\n",
       " ('baths', 8587.214489304479),\n",
       " ('city_AUBURN', 145620.95436325442),\n",
       " ('city_CAMERON PARK', 1.677835825830698e-08),\n",
       " ('city_CARMICHAEL', 82490.30024184933),\n",
       " ('city_CITRUS HEIGHTS', 20705.706473307222),\n",
       " ('city_COOL', 101727.46790048003),\n",
       " ('city_DIAMOND SPRINGS', 38274.36818633667),\n",
       " ('city_EL DORADO', 59962.75276263026),\n",
       " ('city_EL DORADO HILLS', 43512.804927178775),\n",
       " ('city_ELK GROVE', 12644.377190720785),\n",
       " ('city_ELVERTA', -35733.513122436896),\n",
       " ('city_FAIR OAKS', 91237.40437980887),\n",
       " ('city_FOLSOM', 124454.84241662489),\n",
       " ('city_GALT', 23631.57931186724),\n",
       " ('city_GOLD RIVER', 84679.43834749899),\n",
       " ('city_GRANITE BAY', 310216.01568609936),\n",
       " ('city_GREENWOOD', 15238.248174018549),\n",
       " ('city_LINCOLN', 46813.84376919034),\n",
       " ('city_LOOMIS', 376439.7705712483),\n",
       " ('city_MATHER', -43573.42752502716),\n",
       " ('city_MEADOW VISTA', 71804.17263749348),\n",
       " ('city_NORTH HIGHLANDS', -21241.019781414885),\n",
       " ('city_ORANGEVALE', 58502.99833444271),\n",
       " ('city_PENRYN', 326316.1324811324),\n",
       " ('city_PLACERVILLE', 236449.6652427478),\n",
       " ('city_POLLOCK PINES', 55487.21266879678),\n",
       " ('city_RANCHO CORDOVA', 10537.35374771363),\n",
       " ('city_RANCHO MURIETA', 17189.30313398515),\n",
       " ('city_RIO LINDA', 4183.029324184809),\n",
       " ('city_ROCKLIN', 102263.28808158274),\n",
       " ('city_ROSEVILLE', 61492.19689281708),\n",
       " ('city_SACRAMENTO', 3661.0728715214336),\n",
       " ('city_WALNUT GROVE', 2.9103830456733704e-11),\n",
       " ('city_WEST SACRAMENTO', 0.0),\n",
       " ('city_WILTON', 184580.99481296758),\n",
       " ('type_Multi-Family', -28800.44263755895),\n",
       " ('type_Residential', 40368.030060934594)]"
      ]
     },
     "metadata": {},
     "output_type": "display_data"
    },
    {
     "name": "stdout",
     "output_type": "stream",
     "text": [
      "sqft_beds_baths_city 76905.94890855279\n"
     ]
    },
    {
     "data": {
      "text/plain": [
       "[('sq__ft', 116.92743707832207),\n",
       " ('baths', 3541.9170939375676),\n",
       " ('city_AUBURN', 154879.90856208076),\n",
       " ('city_CAMERON PARK', 1.5570549294352531e-09),\n",
       " ('city_CARMICHAEL', 79786.85886266975),\n",
       " ('city_CITRUS HEIGHTS', 15692.79834486029),\n",
       " ('city_COOL', 104204.11224904939),\n",
       " ('city_DIAMOND SPRINGS', 38594.71987022597),\n",
       " ('city_EL DORADO', 67591.00043126794),\n",
       " ('city_EL DORADO HILLS', 38356.40030349707),\n",
       " ('city_ELK GROVE', 12099.90478293554),\n",
       " ('city_ELVERTA', -41737.95208942102),\n",
       " ('city_FAIR OAKS', 95676.85433324867),\n",
       " ('city_FOLSOM', 123647.07351437333),\n",
       " ('city_GALT', 20004.957875135868),\n",
       " ('city_GOLD RIVER', 97076.86019979768),\n",
       " ('city_GRANITE BAY', 305252.6950504337),\n",
       " ('city_GREENWOOD', 36791.9021481175),\n",
       " ('city_LINCOLN', 49054.30755775877),\n",
       " ('city_LOOMIS', 365440.57385120535),\n",
       " ('city_MATHER', -32361.737732385016),\n",
       " ('city_MEADOW VISTA', 65925.5416791047),\n",
       " ('city_NORTH HIGHLANDS', -25043.865176395317),\n",
       " ('city_ORANGEVALE', 57562.825400363436),\n",
       " ('city_PENRYN', 326911.17112873506),\n",
       " ('city_PLACERVILLE', 241357.28921997285),\n",
       " ('city_POLLOCK PINES', 60771.05733061391),\n",
       " ('city_RANCHO CORDOVA', 9310.383489116408),\n",
       " ('city_RANCHO MURIETA', 24090.433462462614),\n",
       " ('city_RIO LINDA', 5722.316833921448),\n",
       " ('city_ROCKLIN', 102756.94342642328),\n",
       " ('city_ROSEVILLE', 64494.57862760563),\n",
       " ('city_SACRAMENTO', 1904.569055523205),\n",
       " ('city_WALNUT GROVE', 2.1100277081131935e-10),\n",
       " ('city_WEST SACRAMENTO', 0.0),\n",
       " ('city_WILTON', 194295.85724022595),\n",
       " ('type_Multi-Family', -53805.03776021437),\n",
       " ('type_Residential', 25287.707797367148)]"
      ]
     },
     "metadata": {},
     "output_type": "display_data"
    },
    {
     "name": "stdout",
     "output_type": "stream",
     "text": [
      "sqft_baths_city 78326.72205984984\n"
     ]
    },
    {
     "data": {
      "text/plain": [
       "[('sq__ft', 135.60353919095365),\n",
       " ('beds', -17227.87594272435),\n",
       " ('city_AUBURN', 146062.44059281948),\n",
       " ('city_CAMERON PARK', 1.5432306099683046e-08),\n",
       " ('city_CARMICHAEL', 80214.61028703037),\n",
       " ('city_CITRUS HEIGHTS', 19764.122300663956),\n",
       " ('city_COOL', 101733.3974077733),\n",
       " ('city_DIAMOND SPRINGS', 39056.153060756325),\n",
       " ('city_EL DORADO', 57069.90183527912),\n",
       " ('city_EL DORADO HILLS', 42109.08236268877),\n",
       " ('city_ELK GROVE', 11868.366091573747),\n",
       " ('city_ELVERTA', -35446.7384421125),\n",
       " ('city_FAIR OAKS', 89151.73094824185),\n",
       " ('city_FOLSOM', 122814.43109475341),\n",
       " ('city_GALT', 22926.71844493851),\n",
       " ('city_GOLD RIVER', 81115.77426549488),\n",
       " ('city_GRANITE BAY', 306677.08673052036),\n",
       " ('city_GREENWOOD', 8380.081471518897),\n",
       " ('city_LINCOLN', 47253.14762251042),\n",
       " ('city_LOOMIS', 383384.80610586505),\n",
       " ('city_MATHER', -46710.45351768183),\n",
       " ('city_MEADOW VISTA', 64413.85035279686),\n",
       " ('city_NORTH HIGHLANDS', -23599.02893337556),\n",
       " ('city_ORANGEVALE', 57921.57890026454),\n",
       " ('city_PENRYN', 326999.08227693633),\n",
       " ('city_PLACERVILLE', 235580.9043043043),\n",
       " ('city_POLLOCK PINES', 53786.29531583277),\n",
       " ('city_RANCHO CORDOVA', 9818.563384128287),\n",
       " ('city_RANCHO MURIETA', 12492.343328905457),\n",
       " ('city_RIO LINDA', 2703.3174092280597),\n",
       " ('city_ROCKLIN', 100904.66740323504),\n",
       " ('city_ROSEVILLE', 59422.926493396946),\n",
       " ('city_SACRAMENTO', 1771.2515898666848),\n",
       " ('city_WALNUT GROVE', 2.9103830456733704e-11),\n",
       " ('city_WEST SACRAMENTO', 8.731149137020111e-11),\n",
       " ('city_WILTON', 176793.57726192498),\n",
       " ('type_Multi-Family', -22011.280595918535),\n",
       " ('type_Residential', 39646.678341623505)]"
      ]
     },
     "metadata": {},
     "output_type": "display_data"
    },
    {
     "name": "stdout",
     "output_type": "stream",
     "text": [
      "sqft_beds_city 76455.48260925386\n"
     ]
    }
   ],
   "source": [
    "# Standard Linear Regression\n",
    "for features in feature_sets:\n",
    "    rmse = train_test_osl(df, feature_sets[features])\n",
    "    print(features, rmse)"
   ]
  },
  {
   "cell_type": "code",
   "execution_count": 14,
   "metadata": {},
   "outputs": [
    {
     "data": {
      "text/plain": [
       "[('sq__ft', 7717.295620467689),\n",
       " ('city_AUBURN', 529.1916085603848),\n",
       " ('city_CAMERON PARK', 241.68260187204086),\n",
       " ('city_CARMICHAEL', 789.422460312273),\n",
       " ('city_CITRUS HEIGHTS', -698.6327264740405),\n",
       " ('city_COOL', 221.04029541847203),\n",
       " ('city_DIAMOND SPRINGS', -41.25875627527089),\n",
       " ('city_EL DORADO', 79.92207621792527),\n",
       " ('city_EL DORADO HILLS', 92.85667841328764),\n",
       " ('city_ELK GROVE', 967.9893754308562),\n",
       " ('city_ELVERTA', -599.6697047961308),\n",
       " ('city_FAIR OAKS', 957.0671770360703),\n",
       " ('city_FOLSOM', 2218.38764254301),\n",
       " ('city_GALT', 252.0011546089521),\n",
       " ('city_GOLD RIVER', 764.5053806649287),\n",
       " ('city_GRANITE BAY', 2576.822055202431),\n",
       " ('city_GREENWOOD', 471.66120352205104),\n",
       " ('city_LINCOLN', 238.34907365322488),\n",
       " ('city_LOOMIS', 1519.3506730090478),\n",
       " ('city_MATHER', -1.9187960864706208),\n",
       " ('city_MEADOW VISTA', 6.566346208335416),\n",
       " ('city_NORTH HIGHLANDS', -1372.5498179596937),\n",
       " ('city_ORANGEVALE', 488.3710684731978),\n",
       " ('city_PENRYN', 886.6391457223697),\n",
       " ('city_PLACERVILLE', 1607.7611860898771),\n",
       " ('city_POLLOCK PINES', 61.10645905167458),\n",
       " ('city_RANCHO CORDOVA', 34.90170070526636),\n",
       " ('city_RANCHO MURIETA', 673.7459815376495),\n",
       " ('city_RIO LINDA', -657.9766078428363),\n",
       " ('city_ROCKLIN', 799.6624822638457),\n",
       " ('city_ROSEVILLE', 1115.5147148953336),\n",
       " ('city_SACRAMENTO', -2978.763411272342),\n",
       " ('city_WALNUT GROVE', 326.1938670331545),\n",
       " ('city_WEST SACRAMENTO', 319.79790885603387),\n",
       " ('city_WILTON', 2412.860348902654),\n",
       " ('type_Multi-Family', -60.05853342245161),\n",
       " ('type_Residential', 1788.4186079376714)]"
      ]
     },
     "metadata": {},
     "output_type": "display_data"
    },
    {
     "name": "stdout",
     "output_type": "stream",
     "text": [
      "sqft_city 105431.8298991803\n"
     ]
    },
    {
     "data": {
      "text/plain": [
       "[('sq__ft', 7135.396095351802),\n",
       " ('beds', 4204.8086214139885),\n",
       " ('baths', 4796.861912170137),\n",
       " ('city_AUBURN', 531.9484181950417),\n",
       " ('city_CAMERON PARK', 487.7102204414588),\n",
       " ('city_CARMICHAEL', 803.8425156316202),\n",
       " ('city_CITRUS HEIGHTS', -690.469879980985),\n",
       " ('city_COOL', 224.182744213683),\n",
       " ('city_DIAMOND SPRINGS', -38.567243770539875),\n",
       " ('city_EL DORADO', 111.34323992309646),\n",
       " ('city_EL DORADO HILLS', 85.2375072122331),\n",
       " ('city_ELK GROVE', 849.3765765852262),\n",
       " ('city_ELVERTA', -604.8632485426936),\n",
       " ('city_FAIR OAKS', 961.7940355519074),\n",
       " ('city_FOLSOM', 2143.191219205884),\n",
       " ('city_GALT', 206.49736151635403),\n",
       " ('city_GOLD RIVER', 773.557677871465),\n",
       " ('city_GRANITE BAY', 2496.678255618823),\n",
       " ('city_GREENWOOD', 478.7931459954575),\n",
       " ('city_LINCOLN', 231.21441774502182),\n",
       " ('city_LOOMIS', 1468.913247799945),\n",
       " ('city_MATHER', 3.0503755160351154),\n",
       " ('city_MEADOW VISTA', 32.03112162167347),\n",
       " ('city_NORTH HIGHLANDS', -1314.3767797695298),\n",
       " ('city_ORANGEVALE', 471.58691090779314),\n",
       " ('city_PENRYN', 889.3881023405378),\n",
       " ('city_PLACERVILLE', 1615.9289683729426),\n",
       " ('city_POLLOCK PINES', 88.37429177580519),\n",
       " ('city_RANCHO CORDOVA', -5.427368451966639),\n",
       " ('city_RANCHO MURIETA', 645.6420138706515),\n",
       " ('city_RIO LINDA', -606.015349072359),\n",
       " ('city_ROCKLIN', 798.9715995798232),\n",
       " ('city_ROSEVILLE', 1125.8937629840875),\n",
       " ('city_SACRAMENTO', -2859.230300332006),\n",
       " ('city_WALNUT GROVE', 487.7102204414583),\n",
       " ('city_WEST SACRAMENTO', 478.14727494260603),\n",
       " ('city_WILTON', 2368.2653272415296),\n",
       " ('type_Multi-Family', -256.8735346538422),\n",
       " ('type_Residential', 1678.419123532929)]"
      ]
     },
     "metadata": {},
     "output_type": "display_data"
    },
    {
     "name": "stdout",
     "output_type": "stream",
     "text": [
      "sqft_beds_baths_city 103034.49490871152\n"
     ]
    },
    {
     "data": {
      "text/plain": [
       "[('sq__ft', 7393.264349691519),\n",
       " ('baths', 5028.051292933535),\n",
       " ('city_AUBURN', 515.417023051407),\n",
       " ('city_CAMERON PARK', 299.2368050871417),\n",
       " ('city_CARMICHAEL', 801.896051860402),\n",
       " ('city_CITRUS HEIGHTS', -689.4987643783369),\n",
       " ('city_COOL', 220.1966084375995),\n",
       " ('city_DIAMOND SPRINGS', -42.353547532632255),\n",
       " ('city_EL DORADO', 95.51797726135042),\n",
       " ('city_EL DORADO HILLS', 91.7496679969989),\n",
       " ('city_ELK GROVE', 890.3298432624705),\n",
       " ('city_ELVERTA', -601.876738605016),\n",
       " ('city_FAIR OAKS', 956.3135164405032),\n",
       " ('city_FOLSOM', 2177.577641451453),\n",
       " ('city_GALT', 228.59895355173282),\n",
       " ('city_GOLD RIVER', 765.0460505174897),\n",
       " ('city_GRANITE BAY', 2538.6256176099296),\n",
       " ('city_GREENWOOD', 473.0390696624695),\n",
       " ('city_LINCOLN', 226.9695114097068),\n",
       " ('city_LOOMIS', 1484.0533010068546),\n",
       " ('city_MATHER', -1.7452708390198324),\n",
       " ('city_MEADOW VISTA', 29.460941707344812),\n",
       " ('city_NORTH HIGHLANDS', -1328.861075927773),\n",
       " ('city_ORANGEVALE', 476.67828729511103),\n",
       " ('city_PENRYN', 885.5763422709302),\n",
       " ('city_PLACERVILLE', 1606.5070005802597),\n",
       " ('city_POLLOCK PINES', 73.23700752924881),\n",
       " ('city_RANCHO CORDOVA', 7.687253346249793),\n",
       " ('city_RANCHO MURIETA', 658.8880786955206),\n",
       " ('city_RIO LINDA', -630.970894262619),\n",
       " ('city_ROCKLIN', 798.1693745700201),\n",
       " ('city_ROSEVILLE', 1113.8989519968127),\n",
       " ('city_SACRAMENTO', -2896.0615256385845),\n",
       " ('city_WALNUT GROVE', 299.2368050871417),\n",
       " ('city_WEST SACRAMENTO', 293.36941675209977),\n",
       " ('city_WILTON', 2393.5645240127005),\n",
       " ('type_Multi-Family', -183.38614872901402),\n",
       " ('type_Residential', 1769.1419713109572)]"
      ]
     },
     "metadata": {},
     "output_type": "display_data"
    },
    {
     "name": "stdout",
     "output_type": "stream",
     "text": [
      "sqft_baths_city 103828.62648076162\n"
     ]
    },
    {
     "data": {
      "text/plain": [
       "[('sq__ft', 7427.262736237635),\n",
       " ('beds', 4470.965856746141),\n",
       " ('city_AUBURN', 546.0959683570552),\n",
       " ('city_CAMERON PARK', 583.9683997257057),\n",
       " ('city_CARMICHAEL', 792.1019704047762),\n",
       " ('city_CITRUS HEIGHTS', -699.2187492795154),\n",
       " ('city_COOL', 225.23749864410505),\n",
       " ('city_DIAMOND SPRINGS', -37.2863106706479),\n",
       " ('city_EL DORADO', 97.51154042802452),\n",
       " ('city_EL DORADO HILLS', 85.87818677891427),\n",
       " ('city_ELK GROVE', 920.6470335491435),\n",
       " ('city_ELVERTA', -602.9531584281718),\n",
       " ('city_FAIR OAKS', 962.8577569439667),\n",
       " ('city_FOLSOM', 2179.8294022942046),\n",
       " ('city_GALT', 227.35642717262007),\n",
       " ('city_GOLD RIVER', 773.5822131039093),\n",
       " ('city_GRANITE BAY', 2530.352058659703),\n",
       " ('city_GREENWOOD', 477.846867483881),\n",
       " ('city_LINCOLN', 242.3063243611242),\n",
       " ('city_LOOMIS', 1501.5265786919804),\n",
       " ('city_MATHER', 3.18889024083361),\n",
       " ('city_MEADOW VISTA', 10.418539327831981),\n",
       " ('city_NORTH HIGHLANDS', -1355.0127318329214),\n",
       " ('city_ORANGEVALE', 482.3857522499385),\n",
       " ('city_PENRYN', 890.6402228710703),\n",
       " ('city_PLACERVILLE', 1617.7182308310441),\n",
       " ('city_POLLOCK PINES', 77.7949746224374),\n",
       " ('city_RANCHO CORDOVA', 19.62642131687588),\n",
       " ('city_RANCHO MURIETA', 658.935055004759),\n",
       " ('city_RIO LINDA', -630.1210998186829),\n",
       " ('city_ROCKLIN', 800.4424881687236),\n",
       " ('city_ROSEVILLE', 1128.1897817786962),\n",
       " ('city_SACRAMENTO', -2935.5575064565146),\n",
       " ('city_WALNUT GROVE', 583.9683997257058),\n",
       " ('city_WEST SACRAMENTO', 572.5180389467703),\n",
       " ('city_WILTON', 2385.016376028209),\n",
       " ('type_Multi-Family', -144.22707834161915),\n",
       " ('type_Residential', 1691.0107163237592)]"
      ]
     },
     "metadata": {},
     "output_type": "display_data"
    },
    {
     "name": "stdout",
     "output_type": "stream",
     "text": [
      "sqft_beds_city 104413.33918018902\n"
     ]
    }
   ],
   "source": [
    "# Ridge Linear Regression\n",
    "del feature_sets['sqft']\n",
    "for features in feature_sets:\n",
    "    rmse = train_test_ridge(df, feature_sets[features])\n",
    "    print(features, rmse)"
   ]
  },
  {
   "cell_type": "code",
   "execution_count": 15,
   "metadata": {},
   "outputs": [
    {
     "data": {
      "text/plain": [
       "[('sq__ft', 77392.84002705147),\n",
       " ('city_AUBURN', 9387.624760201807),\n",
       " ('city_CAMERON PARK', 0.0),\n",
       " ('city_CARMICHAEL', 12221.867552557853),\n",
       " ('city_CITRUS HEIGHTS', 3081.2757296452683),\n",
       " ('city_COOL', 3650.029681384726),\n",
       " ('city_DIAMOND SPRINGS', 1362.1029928845053),\n",
       " ('city_EL DORADO', 3271.6114203676175),\n",
       " ('city_EL DORADO HILLS', 2296.476647321245),\n",
       " ('city_ELK GROVE', 3958.339940471513),\n",
       " ('city_ELVERTA', -2905.036225311226),\n",
       " ('city_FAIR OAKS', 9901.510512361538),\n",
       " ('city_FOLSOM', 16555.409828250693),\n",
       " ('city_GALT', 3061.254360327407),\n",
       " ('city_GOLD RIVER', 5766.665953157887),\n",
       " ('city_GRANITE BAY', 18442.7510591485),\n",
       " ('city_GREENWOOD', 1155.956783069565),\n",
       " ('city_LINCOLN', 4205.082854917984),\n",
       " ('city_LOOMIS', 18289.201156969317),\n",
       " ('city_MATHER', -1199.6191801303921),\n",
       " ('city_MEADOW VISTA', 2204.693280059943),\n",
       " ('city_NORTH HIGHLANDS', -4130.679881256748),\n",
       " ('city_ORANGEVALE', 6622.190547749396),\n",
       " ('city_PENRYN', 11478.171769761786),\n",
       " ('city_PLACERVILLE', 18841.400147772285),\n",
       " ('city_POLLOCK PINES', 3627.0509763792925),\n",
       " ('city_RANCHO CORDOVA', 1421.6957079778479),\n",
       " ('city_RANCHO MURIETA', 1076.6829965898105),\n",
       " ('city_RIO LINDA', 595.3124432415107),\n",
       " ('city_ROCKLIN', 10085.401997940218),\n",
       " ('city_ROSEVILLE', 11575.253373797103),\n",
       " ('city_SACRAMENTO', 530.692945795646),\n",
       " ('city_WALNUT GROVE', 0.0),\n",
       " ('city_WEST SACRAMENTO', -0.0),\n",
       " ('city_WILTON', 13344.17492247726),\n",
       " ('type_Multi-Family', -6273.574641812858),\n",
       " ('type_Residential', 6360.591275236424)]"
      ]
     },
     "metadata": {},
     "output_type": "display_data"
    },
    {
     "name": "stdout",
     "output_type": "stream",
     "text": [
      "sqft_city 78067.93296710559\n"
     ]
    },
    {
     "data": {
      "text/plain": [
       "[('sq__ft', 84576.98940079077),\n",
       " ('beds', -15949.290082276584),\n",
       " ('baths', 5714.1710254212085),\n",
       " ('city_AUBURN', 8834.24803254925),\n",
       " ('city_CAMERON PARK', 0.0),\n",
       " ('city_CARMICHAEL', 12778.793029771912),\n",
       " ('city_CITRUS HEIGHTS', 4131.329544054948),\n",
       " ('city_COOL', 3566.1693504143477),\n",
       " ('city_DIAMOND SPRINGS', 1339.3911004805132),\n",
       " ('city_EL DORADO', 2969.0566184502777),\n",
       " ('city_EL DORADO HILLS', 2635.093071338941),\n",
       " ('city_ELK GROVE', 4249.651305040133),\n",
       " ('city_ELVERTA', -2508.287111781368),\n",
       " ('city_FAIR OAKS', 9547.847826395962),\n",
       " ('city_FOLSOM', 16756.004014910406),\n",
       " ('city_GALT', 3650.70952205194),\n",
       " ('city_GOLD RIVER', 5134.910845900817),\n",
       " ('city_GRANITE BAY', 18826.18762916041),\n",
       " ('city_GREENWOOD', 531.10799596178),\n",
       " ('city_LINCOLN', 4003.7323570450735),\n",
       " ('city_LOOMIS', 18665.899362321623),\n",
       " ('city_MATHER', -1531.1891518999953),\n",
       " ('city_MEADOW VISTA', 2515.8186295851715),\n",
       " ('city_NORTH HIGHLANDS', -3386.4065663510264),\n",
       " ('city_ORANGEVALE', 6756.130440246259),\n",
       " ('city_PENRYN', 11447.67021873603),\n",
       " ('city_PLACERVILLE', 18500.577139925994),\n",
       " ('city_POLLOCK PINES', 3362.5803586036277),\n",
       " ('city_RANCHO CORDOVA', 1658.947805697137),\n",
       " ('city_RANCHO MURIETA', 847.627691940509),\n",
       " ('city_RIO LINDA', 493.53126597672576),\n",
       " ('city_ROCKLIN', 10096.512312444618),\n",
       " ('city_ROSEVILLE', 11210.476074564385),\n",
       " ('city_SACRAMENTO', 1785.1346041145696),\n",
       " ('city_WALNUT GROVE', 0.0),\n",
       " ('city_WEST SACRAMENTO', -0.0),\n",
       " ('city_WILTON', 12924.380042652361),\n",
       " ('type_Multi-Family', -3615.9083493979483),\n",
       " ('type_Residential', 10062.10298565264)]"
      ]
     },
     "metadata": {},
     "output_type": "display_data"
    },
    {
     "name": "stdout",
     "output_type": "stream",
     "text": [
      "sqft_beds_baths_city 76902.71358589438\n"
     ]
    },
    {
     "data": {
      "text/plain": [
       "[('sq__ft', 75689.46239321734),\n",
       " ('baths', 2355.3816697313314),\n",
       " ('city_AUBURN', 9396.15753897672),\n",
       " ('city_CAMERON PARK', 0.0),\n",
       " ('city_CARMICHAEL', 12359.64213951666),\n",
       " ('city_CITRUS HEIGHTS', 3126.978576831105),\n",
       " ('city_COOL', 3653.0528052601826),\n",
       " ('city_DIAMOND SPRINGS', 1350.6276872855935),\n",
       " ('city_EL DORADO', 3347.2828203072836),\n",
       " ('city_EL DORADO HILLS', 2322.154583384469),\n",
       " ('city_ELK GROVE', 4065.4298657990885),\n",
       " ('city_ELVERTA', -2928.8045875736284),\n",
       " ('city_FAIR OAKS', 10012.762098684736),\n",
       " ('city_FOLSOM', 16647.195979310112),\n",
       " ('city_GALT', 3088.4290178074684),\n",
       " ('city_GOLD RIVER', 5887.289582466597),\n",
       " ('city_GRANITE BAY', 18524.96701917729),\n",
       " ('city_GREENWOOD', 1287.2494624213004),\n",
       " ('city_LINCOLN', 4195.66182190519),\n",
       " ('city_LOOMIS', 18120.52698647562),\n",
       " ('city_MATHER', -1137.8635542378447),\n",
       " ('city_MEADOW VISTA', 2309.5829268212638),\n",
       " ('city_NORTH HIGHLANDS', -3990.1870391253296),\n",
       " ('city_ORANGEVALE', 6647.408916571624),\n",
       " ('city_PENRYN', 11468.543410633498),\n",
       " ('city_PLACERVILLE', 18884.602361771533),\n",
       " ('city_POLLOCK PINES', 3683.2461643083893),\n",
       " ('city_RANCHO CORDOVA', 1464.1348955837343),\n",
       " ('city_RANCHO MURIETA', 1189.8014054503535),\n",
       " ('city_RIO LINDA', 679.3156274318944),\n",
       " ('city_ROCKLIN', 10145.278497345456),\n",
       " ('city_ROSEVILLE', 11758.448372661207),\n",
       " ('city_SACRAMENTO', 907.9542547462223),\n",
       " ('city_WALNUT GROVE', 0.0),\n",
       " ('city_WEST SACRAMENTO', -0.0),\n",
       " ('city_WILTON', 13604.744630398172),\n",
       " ('type_Multi-Family', -6755.215022494783),\n",
       " ('type_Residential', 6303.760649521097)]"
      ]
     },
     "metadata": {},
     "output_type": "display_data"
    },
    {
     "name": "stdout",
     "output_type": "stream",
     "text": [
      "sqft_baths_city 78323.22865560686\n"
     ]
    },
    {
     "data": {
      "text/plain": [
       "[('sq__ft', 87773.37612124647),\n",
       " ('beds', -14630.082243907562),\n",
       " ('city_AUBURN', 8861.0251182589),\n",
       " ('city_CAMERON PARK', 0.0),\n",
       " ('city_CARMICHAEL', 12426.117803461902),\n",
       " ('city_CITRUS HEIGHTS', 3942.7539409708893),\n",
       " ('city_COOL', 3566.3749551015367),\n",
       " ('city_DIAMOND SPRINGS', 1366.802996621439),\n",
       " ('city_EL DORADO', 2825.6822512017307),\n",
       " ('city_EL DORADO HILLS', 2549.9373531261067),\n",
       " ('city_ELK GROVE', 3987.2126616550286),\n",
       " ('city_ELVERTA', -2488.21670889631),\n",
       " ('city_FAIR OAKS', 9329.517398281143),\n",
       " ('city_FOLSOM', 16535.14375612584),\n",
       " ('city_GALT', 3541.467002418368),\n",
       " ('city_GOLD RIVER', 4918.730106108185),\n",
       " ('city_GRANITE BAY', 18611.50764171118),\n",
       " ('city_GREENWOOD', 290.6159622318074),\n",
       " ('city_LINCOLN', 4041.3439179795864),\n",
       " ('city_LOOMIS', 19010.09545656755),\n",
       " ('city_MATHER', -1641.1949576692077),\n",
       " ('city_MEADOW VISTA', 2256.665898188882),\n",
       " ('city_NORTH HIGHLANDS', -3760.6262651332127),\n",
       " ('city_ORANGEVALE', 6688.921938785219),\n",
       " ('city_PENRYN', 11471.616417892748),\n",
       " ('city_PLACERVILLE', 18432.620657864205),\n",
       " ('city_POLLOCK PINES', 3259.3964047214517),\n",
       " ('city_RANCHO CORDOVA', 1544.8678320485417),\n",
       " ('city_RANCHO MURIETA', 614.8411635866044),\n",
       " ('city_RIO LINDA', 315.00333256293584),\n",
       " ('city_ROCKLIN', 9962.33866081806),\n",
       " ('city_ROSEVILLE', 10832.959210291901),\n",
       " ('city_SACRAMENTO', 841.7982818047591),\n",
       " ('city_WALNUT GROVE', 0.0),\n",
       " ('city_WEST SACRAMENTO', -0.0),\n",
       " ('city_WILTON', 12379.238261648032),\n",
       " ('type_Multi-Family', -2763.9155065959862),\n",
       " ('type_Residential', 9882.407876559408)]"
      ]
     },
     "metadata": {},
     "output_type": "display_data"
    },
    {
     "name": "stdout",
     "output_type": "stream",
     "text": [
      "sqft_beds_city 76452.76289434943\n"
     ]
    }
   ],
   "source": [
    "# Lasso Linear Regression\n",
    "for features in feature_sets:\n",
    "    rmse = train_test_lasso(df, feature_sets[features])\n",
    "    print(features, rmse)"
   ]
  },
  {
   "cell_type": "code",
   "execution_count": 16,
   "metadata": {},
   "outputs": [],
   "source": [
    "# Lasso Linear Regression\n",
    "avg_rmse = {}\n",
    "for features in feature_sets:\n",
    "    scores = cross_val_lasso(df, feature_sets[features])\n",
    "    rmses = []\n",
    "    for score in scores:\n",
    "        rmses.append(np.sqrt(abs(score)))\n",
    "\n",
    "    avg_rmse[features] = np.mean(rmses)"
   ]
  },
  {
   "cell_type": "code",
   "execution_count": 17,
   "metadata": {},
   "outputs": [
    {
     "data": {
      "text/plain": [
       "{'sqft_city': 72443.98912129129,\n",
       " 'sqft_beds_baths_city': 71875.71199203335,\n",
       " 'sqft_baths_city': 72800.11942040474,\n",
       " 'sqft_beds_city': 71621.59521508006}"
      ]
     },
     "execution_count": 17,
     "metadata": {},
     "output_type": "execute_result"
    }
   ],
   "source": [
    "avg_rmse"
   ]
  },
  {
   "cell_type": "code",
   "execution_count": 18,
   "metadata": {},
   "outputs": [],
   "source": [
    "# Lasso Linear Regression\n",
    "feature_scores = {}\n",
    "for features in feature_sets:\n",
    "    scores = cross_val_lasso(df, feature_sets[features])\n",
    "    rmses = []\n",
    "    for score in scores:\n",
    "        rmses.append(np.sqrt(abs(score)))\n",
    "    feature_scores[features] = rmses"
   ]
  },
  {
   "cell_type": "code",
   "execution_count": 19,
   "metadata": {},
   "outputs": [
    {
     "data": {
      "text/plain": [
       "{'sqft_city': [50781.57827372883,\n",
       "  83754.28837632124,\n",
       "  40807.6399881679,\n",
       "  115877.34475606748,\n",
       "  49536.931453665,\n",
       "  108785.83913961543,\n",
       "  53396.38142104607,\n",
       "  76885.38960368058,\n",
       "  100954.03977350327,\n",
       "  43660.458427116995],\n",
       " 'sqft_beds_baths_city': [49988.346215981204,\n",
       "  82655.27432874124,\n",
       "  42463.22267732231,\n",
       "  114912.7255048077,\n",
       "  49511.680332340096,\n",
       "  107505.01795608537,\n",
       "  54775.2631800895,\n",
       "  75429.64658709345,\n",
       "  98955.31836942422,\n",
       "  42560.624768448455],\n",
       " 'sqft_baths_city': [50845.85120217889,\n",
       "  85114.57622193216,\n",
       "  40760.227681993456,\n",
       "  116213.0080448885,\n",
       "  49559.68263676399,\n",
       "  108779.84229722554,\n",
       "  53357.37672864736,\n",
       "  78105.88147517349,\n",
       "  101631.29037193832,\n",
       "  43633.457543305645],\n",
       " 'sqft_beds_city': [50062.171997994956,\n",
       "  82084.8868976597,\n",
       "  42304.556264774976,\n",
       "  115048.96552116152,\n",
       "  48875.33982097298,\n",
       "  107518.75426177193,\n",
       "  54637.56623106013,\n",
       "  75227.60821337288,\n",
       "  97997.66648166151,\n",
       "  42458.43646036999]}"
      ]
     },
     "execution_count": 19,
     "metadata": {},
     "output_type": "execute_result"
    }
   ],
   "source": [
    "feature_scores"
   ]
  },
  {
   "cell_type": "markdown",
   "metadata": {},
   "source": [
    "### 4. Which variable would be the best predictor of Y in a SLR model? Why?"
   ]
  },
  {
   "cell_type": "code",
   "execution_count": null,
   "metadata": {},
   "outputs": [],
   "source": [
    "# A:"
   ]
  },
  {
   "cell_type": "markdown",
   "metadata": {},
   "source": [
    "### 5. Build a function that will take in two lists `Y` and `X` and returns the intercept and slope coefficients that minimize SSE. \n",
    "\n",
    "`Y` is the target variable and `X` is the predictor variable.\n",
    "\n",
    "- **Test your function on price and the variable you determined was the best predictor in Problem 4.**\n",
    "- **Report the slope and intercept.**"
   ]
  },
  {
   "cell_type": "code",
   "execution_count": null,
   "metadata": {},
   "outputs": [],
   "source": [
    "# A:"
   ]
  },
  {
   "cell_type": "markdown",
   "metadata": {},
   "source": [
    "### 6. Interpret the intercept. Interpret the slope."
   ]
  },
  {
   "cell_type": "code",
   "execution_count": null,
   "metadata": {},
   "outputs": [],
   "source": [
    "# A:"
   ]
  },
  {
   "cell_type": "markdown",
   "metadata": {},
   "source": [
    "### 7. Give an example of how this model could be used for prediction and how this model could be used for inference. \n",
    "\n",
    "**Be sure to make it clear which example is associated with prediction and which is associated with inference.**"
   ]
  },
  {
   "cell_type": "code",
   "execution_count": null,
   "metadata": {},
   "outputs": [],
   "source": [
    "# A:"
   ]
  },
  {
   "cell_type": "markdown",
   "metadata": {},
   "source": [
    "### 8: [Bonus] Using the model you came up with in Problem 5, calculate and plot the residuals."
   ]
  },
  {
   "cell_type": "code",
   "execution_count": null,
   "metadata": {},
   "outputs": [],
   "source": [
    "# A:"
   ]
  }
 ],
 "metadata": {
  "anaconda-cloud": {},
  "kernelspec": {
   "display_name": "Python [conda env:py36]",
   "language": "python",
   "name": "conda-env-py36-py"
  },
  "language_info": {
   "codemirror_mode": {
    "name": "ipython",
    "version": 3
   },
   "file_extension": ".py",
   "mimetype": "text/x-python",
   "name": "python",
   "nbconvert_exporter": "python",
   "pygments_lexer": "ipython3",
   "version": "3.6.6"
  }
 },
 "nbformat": 4,
 "nbformat_minor": 1
}
